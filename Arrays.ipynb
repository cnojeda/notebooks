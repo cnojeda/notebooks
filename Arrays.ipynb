{
 "cells": [
  {
   "cell_type": "markdown",
   "metadata": {},
   "source": [
    "<div style=\"background-color: #aed6f1; color:#000000; font-family: Georgia\">\n",
    "<h3 style=\"padding:10px\">ARRAYS</h3>\n",
    "</div>\n",
    "\n",
    "***\n",
    "* Un <font color=blue>*array*</font> es un <u>contenedor</u> de elementos del **mismo tipo**, que se almacenan consecutivamente en memoria.\n",
    "* La longitud del array se establece cuando se **crea** y <font color=\"#C00000\">**no se puede cambiar**</font>.\n",
    "<center>\n",
    "<img src=\"./imagenes/array-1.jpg\" alt=\"Ejemplo de array\"/>\n",
    "</center>\n",
    "\n",
    "<h4 style=\"background-color: #d6eaf8; color:#000000; font-family: Georgia\">DECLARACIÓN DE ARRAYS</h4>\n",
    "\n",
    "Un <font color=blue>*array*</font> se declara indicándose el <u>nombre del array</u> y <u>el tipo de los datos</u> que va a contener:\n",
    "<center>\n",
    "<img src=\"./imagenes/array-2.jpg\" alt=\"Declaración de array\"/>\n",
    "</center>\n",
    "\n",
    "<div style=\"background-color:#F5F5F5; color:#000000; font-family: Georgia\">\n",
    "Por ejemplo:\n",
    "<br>\n",
    "    <blockquote>\n",
    "float[] alturas; // array de valores float llamado alturas<br>\n",
    "Persona[] personas; // array de objetos de tipo Persona llamado personas\n",
    "    </blockquote>\n",
    "</div>\n",
    "<br>\n"
   ]
  },
  {
   "cell_type": "markdown",
   "metadata": {},
   "source": [
    "<div style=\"background-color:#F0F4C3\">\n",
    "    <p style=\"font-family:'Courier New'; padding-left:10px; padding-top: 10px; padding-bottom: 10px\"><u>Ejercicio</u>: declara un <i>array</i> de enteros (int) llamado <b>valores</b>.</p>\n",
    "</div>"
   ]
  },
  {
   "cell_type": "code",
   "execution_count": null,
   "metadata": {},
   "outputs": [],
   "source": []
  },
  {
   "cell_type": "markdown",
   "metadata": {},
   "source": [
    "\n",
    "<h4 style=\"background-color: #d6eaf8; color:#000000; font-family: Georgia\">CREACIÓN DE ARRAYS</h4>\n",
    "\n",
    "Un <font color=blue>*array*</font> se crea usando la cláusula <font color=blue>**new**</font> indicando la longitud que va a tener (recordar que esta longitud no puede variar después de ser creado):\n",
    "<center>\n",
    "<img src=\"./imagenes/array-3.jpg\" alt=\"Creación de array\"/>\n",
    "</center>\n",
    "\n",
    "<br>\n",
    "<div style=\"background-color:#F5F5F5; color:#000000; font-family: Georgia\">\n",
    "Por ejemplo:\n",
    "<br>\n",
    "    <blockquote>\n",
    "alturas = new float[10]; // se crea el array alturas de tamaño 10. El array se crea vacío\n",
    "    <br>\n",
    "personas = new Persona[3]; // se crea el array personas de tamaño 3. El array se crea vacío\n",
    "    </blockquote>\n",
    "</div>\n",
    "<br>\n"
   ]
  },
  {
   "cell_type": "markdown",
   "metadata": {},
   "source": [
    "<div style=\"background-color:#F0F4C3\">\n",
    "    <p style=\"font-family:'Courier New'; padding-left:10px; padding-top: 10px; padding-bottom: 10px\"><u>Ejercicio</u>: crea el <i>array</i> <b>valores</b> de tamaño 5.</p>\n",
    "</div>"
   ]
  },
  {
   "cell_type": "code",
   "execution_count": null,
   "metadata": {},
   "outputs": [],
   "source": []
  },
  {
   "cell_type": "markdown",
   "metadata": {},
   "source": [
    "<div style=\"background-color:#F0F4C3\">\n",
    "    <p style=\"font-family:'Courier New'; padding-left:10px; padding-top: 10px\"><u>Ejercicio</u>: declara y crea un <i>array</i> de valores double de tamaño 6 llamado <b>precios</b>.</p>\n",
    "    <p style=\"font-family:'Courier New'; padding-left:10px; padding-bottom: 10px\"><u>Ejercicio</u>: declara y crea un <i>array</i> de objetos String de tamaño 4 llamado <b>nombres</b>.</p>\n",
    "</div>"
   ]
  },
  {
   "cell_type": "code",
   "execution_count": null,
   "metadata": {},
   "outputs": [],
   "source": []
  },
  {
   "cell_type": "markdown",
   "metadata": {},
   "source": [
    "<h4 style=\"background-color: #d6eaf8; color:#000000; font-family: Georgia\">DECLARACIÓN Y CREACIÓN DE ARRAYS</h4>\n",
    "\n",
    "Los <font color=blue>*arrays*</font> se pueden declarar y crear a la misma vez (en una sola línea). En este caso, el array se crea **vacío**:\n",
    "<center>\n",
    "<img src=\"./imagenes/array-4.jpg\" alt=\"Declaración y creación de array\"/>\n",
    "</center>\n",
    "<br>\n",
    "También se pueden declarar y crear, pero con **valores iniciales** (no vacío):\n",
    "\n",
    "<center>\n",
    "<img src=\"./imagenes/array-5.jpg\" alt=\"Declaración, creación y asignación de valores a un array\"/>\n",
    "</center>\n",
    "\n",
    "<br>\n",
    "<div style=\"background-color:#F5F5F5; color:#000000; font-family: Georgia\">\n",
    "Por ejemplo:\n",
    "<br>\n",
    "<blockquote>\n",
    "double[] pesos = {90.4, 45.8, 67.5}; // se crea el array pesos de tamaño 3, con valores iniciales de tipo double<br>\n",
    "char[] caracteres = {}; // se crea el array caracteres con longitud 0. NUNCA PODRÁ CAMBIAR DE TAMAÑO<br>\n",
    "long[] numArchivos = new long[0]; // se crea el array numArchivos con longitud 0. NUNCA PODRÁ CAMBIAR DE TAMAÑO      \n",
    "    </blockquote>\n",
    "</div>\n",
    "\n",
    "<br>\n"
   ]
  },
  {
   "cell_type": "markdown",
   "metadata": {},
   "source": [
    "<div style=\"background-color:#F0F4C3\">\n",
    "    <p style=\"font-family:'Courier New'; padding-left:10px; padding-top: 10px\"><u>Ejercicio</u>: declara y crea un <i>array</i> de valores float de tamaño 4 llamado <b>notas_1</b> con valores vacíos.</p>\n",
    "    <p style=\"font-family:'Courier New'; padding-left:10px; padding-bottom: 10px\"><u>Ejercicio</u>: declara y crea un <i>array</i> de valores float de tamaño 4 llamado <b>notas_2</b> con valores cualesquiera (asigna los valores que quieras).</p>\n",
    "</div>"
   ]
  },
  {
   "cell_type": "code",
   "execution_count": null,
   "metadata": {},
   "outputs": [],
   "source": []
  },
  {
   "cell_type": "markdown",
   "metadata": {},
   "source": [
    "<div style=\"background-color:#F0F4C3\">\n",
    "    <p style=\"font-family:'Courier New'; padding-left:10px; padding-top: 10px; padding-bottom: 10px\"><u>Ejercicio</u>: realiza más ejercicios de declaración y creación de arrays hasta que consideres que entiendes los conceptos explicados (puedes crear todas las celdas que quieras).</p>\n",
    "</div>"
   ]
  },
  {
   "cell_type": "code",
   "execution_count": null,
   "metadata": {},
   "outputs": [],
   "source": []
  },
  {
   "cell_type": "markdown",
   "metadata": {},
   "source": [
    "<div style=\"background-color:#F0F4C3\">\n",
    "    <p style=\"font-family:'Courier New'; padding-left:10px; padding-top: 10px; padding-bottom: 10px\"><u>Ejercicio</u>: completar el código siguiente.</p>\n",
    "</div>"
   ]
  },
  {
   "cell_type": "code",
   "execution_count": null,
   "metadata": {},
   "outputs": [],
   "source": [
    "// Declarar y crear un array llamado expedientes de tamaño 6 de valores enteros con valores iniciales cualesquiera\n",
    "// 123 234 345 456 567 678\n",
    "\n",
    "\n",
    "// ... escribe el código aquí ...\n",
    "\n",
    "for (int i = 0; i < 6; i++) {\n",
    "    System.out.print(expedientes[i] + \" \");\n",
    "}"
   ]
  },
  {
   "cell_type": "code",
   "execution_count": null,
   "metadata": {},
   "outputs": [],
   "source": [
    "// Declarar y crear un array bidimensional llamado estudiantes de tamaño 3x2 de valores String con valores los valores iniciales dados:\n",
    "// María Luis \n",
    "// Pablo Laura \n",
    "// Alfonso Raquel \n",
    "\n",
    "\n",
    "// ... escribe el código aquí ...\n",
    "\n",
    "\n",
    "for (int i = 0; i < 3; i++) {\n",
    "    for (int j = 0; j < 2; j++) {\n",
    "        System.out.print(estudiantes[i][j] + \" \");\n",
    "    }\n",
    "    System.out.println();\n",
    "}"
   ]
  },
  {
   "cell_type": "markdown",
   "metadata": {},
   "source": [
    "<h4 style=\"background-color: #d6eaf8; color:#000000; font-family: Georgia\">ACCESO A LOS ELEMENTOS DEL ARRAYS</h4>\n",
    "\n",
    "Para acceder a los elementos de un <font color=blue>*array*</font> se utiliza el identificador del array y el índice o los índices adecuados. \n",
    "\n",
    "Si el <font color=blue>*array*</font> es undimensional (un vector) se utiliza un solo índice que debe estar en el rango **[0..longitud-1]**. Ese índice se debe colocar entre corchetes ([ ]).\n",
    "\n",
    "<center>\n",
    "<img src=\"./imagenes/array-7.jpg\" alt=\"Acceso a los elementos de un array unidimensional\"/>\n",
    "</center>\n",
    "<br>\n",
    "\n",
    "Si el <font color=blue>*array*</font> es bidimensional (una matriz) se utilizan dos índices: el primero corresponde con la fila (en el rango **[0..longituDeLaFila-1]**) y el segundo corresponde con las columnas (en el rango **[0..longituDeLaColumna-1]**). Cada índice se debe colocar entre corchetes ([ ]).\n",
    "\n",
    "<center>\n",
    "<img src=\"./imagenes/array-8.jpg\" alt=\"Acceso a los elementos de un array bidimensional\"/>\n",
    "</center>\n",
    "<br>\n",
    "\n",
    "<div style=\"background-color:#F5F5F5; color:#000000; font-family: Georgia\">\n",
    "Por ejemplo:\n",
    "<br>\n",
    "<blockquote>\n",
    "expedientes[0] // se accede al elemento 0 (primer elemento) del array expedientes <br>\n",
    "expedientes[5] // se accede al elemento 5 (último elemento) del array expedientes <br>\n",
    "estudiantes[0][0] // se accede al primer elemento del array estudiantes <br>     \n",
    "estudiantes[0][1] // se accede al último elemento de la primera fila del array estudiantes <br>    \n",
    "estudiantes[2][0] // se accede al primer elemento de la última fila del array estudiantes <br>     \n",
    "estudiantes[2][1] // se accede al último elemento del array estudiantes <br>      \n",
    "    </blockquote>\n",
    "</div>\n",
    "\n",
    "<br>\n",
    "\n",
    "Si se quiere modificar el valor de un elemento de un <font color=blue>*array*</font> se usa una instrucción de asignación. El nuevo valor debe ser del mismo tipo que el del resto de los elementos.\n",
    "\n",
    "<center>\n",
    "<img src=\"./imagenes/array-9.jpg\" alt=\"Acceso a los elementos de un array bidimensional\"/>\n",
    "</center>\n",
    "<br>\n",
    "\n",
    "<div style=\"background-color:#F5F5F5; color:#000000; font-family: Georgia\">\n",
    "Por ejemplo:\n",
    "<br>\n",
    "<blockquote>\n",
    "expedientes[0] = 345; // se asigna valor al elemento 0 (primer elemento) del array expedientes <br>\n",
    "expedientes[5] = expediente[0]; // se asigna el valor de la posición 0 al elemento 5 (último elemento) del array expedientes <br>\n",
    "estudiantes[0][0] = \"Carmen\"; // se asigna valor al primer elemento del array estudiantes <br>     \n",
    "String[][] otrosEstudiantes = estudiantes; // se asigna un array a otro array (ambos tienen que ser del mismo tipo) <br>        \n",
    "    </blockquote>\n",
    "</div>"
   ]
  },
  {
   "cell_type": "code",
   "execution_count": null,
   "metadata": {},
   "outputs": [],
   "source": [
    "// Declarar y crear un array llamado expedientes de tamaño 6 de valores enteros vacío y, a continuación, asignar los valores:\n",
    "\n",
    "// 123 234 345 456 567 678\n",
    "\n",
    "// en instrucciones consecutivas.\n",
    "\n",
    "\n",
    "// ... escribe el código aquí ...\n",
    "\n",
    "for (int i = 0; i < 6; i++) {\n",
    "    System.out.print(expedientes[i] + \" \");\n",
    "}"
   ]
  },
  {
   "cell_type": "code",
   "execution_count": null,
   "metadata": {},
   "outputs": [],
   "source": [
    "// Declarar y crear un array bidimensional llamado estudiantes de tamaño 3x2 de valores String vacío y, a continuación, asignar los \n",
    "// valores: \n",
    "\n",
    "// María Luis \n",
    "// Pablo Laura \n",
    "// Alfonso Raquel \n",
    "\n",
    "// en instrucciones consecutivas.\n",
    "\n",
    "\n",
    "// ... escribe el código aquí ...\n",
    "\n",
    "\n",
    "for (int i = 0; i < 3; i++) {\n",
    "    for (int j = 0; j < 2; j++) {\n",
    "        System.out.print(estudiantes[i][j] + \" \");\n",
    "    }\n",
    "    System.out.println();\n",
    "}"
   ]
  },
  {
   "cell_type": "markdown",
   "metadata": {},
   "source": [
    "<div style=\"background-color:#F0F4C3\">\n",
    "    <p style=\"font-family:'Courier New'; padding-left:10px; padding-top: 10px; padding-bottom: 10px\"><u>Ejercicio</u>: crea un array de longitud 0, e intenta añadir un nuevo elemento en ese array usando lo aprendido en el último apartado.<br><br>\n",
    "        <u>Nota</u>: al hacer este ejercicio debe producirse un error, ya que no es posible añadir elementos a un array de longitud 0.</p>\n",
    "</div>"
   ]
  },
  {
   "cell_type": "code",
   "execution_count": null,
   "metadata": {},
   "outputs": [],
   "source": []
  },
  {
   "cell_type": "markdown",
   "metadata": {},
   "source": [
    "<h4 style=\"background-color: #d6eaf8; color:#000000; font-family: Georgia\">ATRIBUTOS Y MÉTODOS DE LOS OBJETOS ARRAY</h4>\n",
    "\n",
    "Los <font color=blue>*arrays*</font> son objetos especiales de Java, por lo que se crea usando la cláusula **new**. Como objetos que son, tienen un atributo y métodos heredados de la clase **Object**. \n",
    "\n",
    "El atributo que tienen todos los <font color=blue>*arrays*</font> se llama <font color=blue>*length*</font> y devuelve la longitud del <font color=blue>*array*</font> (el valor que se indica cuando se crea el <font color=blue>*array*</font>) y es **público** y **final**. Al ser **público**, el atributo <font color=blue>*length*</font> no necesita *getter* ni *setter*, por lo que se accede de la forma:\n",
    "\n",
    "<center>\n",
    "<img src=\"./imagenes/array-10.jpg\" alt=\"Atributo length\"/>\n",
    "</center>\n",
    "<br>\n",
    "\n",
    "Como <font color=blue>*length*</font> es un atributo **final**, no se puede modificar su valor. Recordar que los atributos finales son constantes (una vez que se le asigna un valor, este no se puede cambiar). Debido al hecho de que <font color=blue>*length*</font> es final, la longitud del <font color=blue>*array*</font> no puede cambiar una vez creado este.\n",
    "\n",
    "En el caso de un <font color=blue>*array*</font> bidimensional, se puede saber el número de filas y el número de columnas, usando el atributo <font color=blue>*length*</font>, tal y como se muestra en la siguiente imagen.\n",
    "\n",
    "<center>\n",
    "<img src=\"./imagenes/array-11.jpg\" alt=\"Atributo length en arrays bidimensionales\"/>\n",
    "</center>\n",
    "<br>\n",
    "\n",
    "De los métodos que hereda de la clase **Object**, se destaca el método **clone()**, que crea un clon del <font color=blue>*array*</font> (otro <font color=blue>*array*</font> diferente con los mismos valores).\n",
    "\n",
    "<br>"
   ]
  },
  {
   "cell_type": "markdown",
   "metadata": {},
   "source": [
    "<div style=\"background-color:#F0F4C3\">\n",
    "    <p style=\"font-family:'Courier New'; padding-left:10px; padding-top: 10px\"><u>Ejercicio</u>: presenta en pantalla la longitud del array expedientes.</p>\n",
    "    <p style=\"font-family:'Courier New'; padding-left:10px; padding-bottom: 10px\"><u>Ejercicio</u>: presenta en pantalla el número de filas y de columnas del array estudiantes.</p>\n",
    "</div>"
   ]
  },
  {
   "cell_type": "code",
   "execution_count": null,
   "metadata": {},
   "outputs": [],
   "source": []
  },
  {
   "cell_type": "code",
   "execution_count": null,
   "metadata": {},
   "outputs": [],
   "source": [
    "// Crea un clon del array expedientes, llamado otrosExpedientes. Para crear el clon, usa el método clone(). Recuerda que el array \n",
    "// expedientes tiene que estar creado para poder hacer el clon. Para ello, debes haberlo realizado en un ejercicio anterior.\n",
    "\n",
    "// ... escribe el código aquí ...\n",
    "\n",
    "\n",
    "for (int i = 0; i < 6; i++) {\n",
    "    System.out.print(otrosExpedientes[i] + \" \");\n",
    "}"
   ]
  },
  {
   "cell_type": "markdown",
   "metadata": {},
   "source": [
    "<h4 style=\"background-color: #d6eaf8; color:#000000; font-family: Georgia\">ARRAYS NO LLENOS</h4>\n",
    "\n",
    "\n",
    "<center>\n",
    "<img src=\"./imagenes/array-12.jpg\" alt=\"Array no lleno\"/>\n",
    "</center>\n",
    "<br>\n",
    "\n",
    "Un <font color=blue>*array*</font> puede: estar vacío, tener algunos elementos (agrupados a la izquierda) o totalmente lleno. Además de saber la longitud del <font color=blue>*array*</font> mediante el atributo <font color=blue>*length*</font>, junto con cada <font color=blue>*array*</font> vamos a declarar un atributo llamado <font color=blue>*nelementos*</font> que almacenará cuántos elementos tiene el <font color=blue>*array*</font> en un momento dado.\n",
    "\n",
    "<center>\n",
    "<img src=\"./imagenes/array-13.jpg\" alt=\"nElementos\"/>\n",
    "</center>\n",
    "<br>\n",
    "\n",
    "Así:\n",
    "\n",
    "Si el <font color=blue>*array*</font> está vacío: **nElementos = 0**.\n",
    "\n",
    "Si el <font color=blue>*array*</font> está lleno: **nElementos = identificador.length**.\n"
   ]
  },
  {
   "cell_type": "code",
   "execution_count": null,
   "metadata": {},
   "outputs": [],
   "source": []
  }
 ],
 "metadata": {
  "kernelspec": {
   "display_name": "Java",
   "language": "java",
   "name": "java"
  },
  "language_info": {
   "codemirror_mode": "java",
   "file_extension": ".jshell",
   "mimetype": "text/x-java-source",
   "name": "Java",
   "pygments_lexer": "java",
   "version": "14.0.2+12-Ubuntu-120.04"
  }
 },
 "nbformat": 4,
 "nbformat_minor": 4
}
